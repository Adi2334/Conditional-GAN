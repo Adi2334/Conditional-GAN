{
 "cells": [
  {
   "cell_type": "markdown",
   "id": "ab57deb7-36b8-43c4-9628-ad528c47dda3",
   "metadata": {},
   "source": [
    ""
   ]
  },
  {
   "cell_type": "code",
   "execution_count": 4,
   "id": "6b2a4c7b-1238-4158-a472-92188935ead0",
   "metadata": {},
   "outputs": [],
   "source": [
    "import imageio\n",
    "import glob\n",
    "import os\n",
    "import matplotlib.pyplot as plt\n",
    "import numpy as np\n",
    "import PIL\n",
    "import tensorflow as tf\n",
    "from tensorflow.keras import layers\n",
    "import time\n",
    "from IPython import display"
   ]
  },
  {
   "cell_type": "code",
   "execution_count": 26,
   "id": "cc4ab7e7-22e9-4ddd-8d7d-8e3b2159de46",
   "metadata": {},
   "outputs": [],
   "source": [
    "(train_img, train_labels), (_,_) = tf.keras.datasets.mnist.load_data()"
   ]
  },
  {
   "cell_type": "code",
   "execution_count": 28,
   "id": "de44d36b-8b48-41e0-867a-00678c3d2d59",
   "metadata": {},
   "outputs": [],
   "source": [
    "train_img = train_img[:,:,:,None].astype('float32')   # adding channel\n",
    "train_img = (train_img - 127.5 )/127.5    # Normalize values to [-1,1]"
   ]
  },
  {
   "cell_type": "code",
   "execution_count": 34,
   "id": "6f09a8b8-b870-417a-a49a-d0954b7a417a",
   "metadata": {},
   "outputs": [],
   "source": [
    "Buffer_size = 60000   # used to shuffle the data\n",
    "Batch_size = 256\n",
    " "
   ]
  },
  {
   "cell_type": "code",
   "execution_count": 35,
   "id": "eee9ff89-6ea7-416a-9477-b23bea42a16e",
   "metadata": {},
   "outputs": [],
   "source": [
    "# batch and shuffle the data\n",
    "train_dataset = tf.data.Dataset.from_tensor_slices(train_img).shuffle(Buffer_size).batch(Batch_size)"
   ]
  },
  {
   "cell_type": "code",
   "execution_count": 36,
   "id": "c3ffb553-0391-49ce-9cc5-e8122f48c2d2",
   "metadata": {},
   "outputs": [
    {
     "name": "stdout",
     "output_type": "stream",
     "text": [
      "<BatchDataset element_spec=TensorSpec(shape=(None, 28, 28, 1), dtype=tf.float32, name=None)>\n"
     ]
    }
   ],
   "source": [
    "print(train_dataset)"
   ]
  },
  {
   "cell_type": "markdown",
   "id": "83d1177f-c90f-445a-92fc-a101b70df4cb",
   "metadata": {},
   "source": [
    "## Create Model"
   ]
  },
  {
   "cell_type": "markdown",
   "id": "d281af93-f0fe-4e89-a2a9-41c1d45e2b50",
   "metadata": {},
   "source": [
    "### 1. Generator"
   ]
  },
  {
   "cell_type": "code",
   "execution_count": 88,
   "id": "fb1fcb2f-76db-41e3-a6c6-aaa341476e73",
   "metadata": {},
   "outputs": [],
   "source": [
    "def generator():\n",
    "    model = tf.keras.Sequential()  # input is Gaussian noise of size 100 \n",
    "    model.add(layers.Dense(7*7*256, use_bias=False, input_shape=(100,))) # observed that GAN converges fast when there is no bias\n",
    "    model.add(layers.BatchNormalization())  # active during training only\n",
    "    model.add(layers.LeakyReLU())  # good with gradients \n",
    "\n",
    "    model.add(layers.Reshape((7,7,256)))\n",
    "    assert model.output_shape == (None, 7, 7, 256)  # here None refers to batch size\n",
    "\n",
    "    model.add(layers.Conv2DTranspose(128,(5,5), strides=(1,1),padding='same',use_bias=False))\n",
    "    assert model.output_shape == (None, 7, 7, 128)\n",
    "    model.add(layers.BatchNormalization())\n",
    "    model.add(layers.LeakyReLU())\n",
    "\n",
    "    model.add(layers.Conv2DTranspose(64,(5,5), strides=(2,2),padding='same',use_bias=False))\n",
    "    assert model.output_shape == (None, 14, 14, 64)\n",
    "    model.add(layers.BatchNormalization())\n",
    "    model.add(layers.LeakyReLU())\n",
    "\n",
    "    model.add(layers.Conv2DTranspose(1,(5,5), strides=(2,2),padding='same',use_bias=False, activation='tanh'))\n",
    "    assert model.output_shape == (None, 28, 28, 1)\n",
    "\n",
    "    return model\n",
    "    \n",
    "    \n",
    "    "
   ]
  },
  {
   "cell_type": "code",
   "execution_count": 89,
   "id": "c75302a8-a67a-4eca-8b31-2a4a60f2ab2b",
   "metadata": {},
   "outputs": [],
   "source": [
    "def generator2():\n",
    "    model = tf.keras.Sequential()  # input is Gaussian noise of size 28,28,1 \n",
    "    model.add(layers.Conv2D(1,(2,2), padding='same', use_bias=False, input_shape=(28,28,1,))) # observed that GAN converges fast when there is no bias\n",
    "    model.add(layers.BatchNormalization())  # active during training only\n",
    "    model.add(layers.LeakyReLU())  # good with gradients \n",
    "\n",
    "    model.add(layers.Conv2D(64,(5,5), strides=(1,1) ,padding='same',use_bias=False))\n",
    "    assert model.output_shape == (None, 28, 28, 64)\n",
    "    model.add(layers.BatchNormalization())\n",
    "    model.add(layers.LeakyReLU())\n",
    "\n",
    "    model.add(layers.Conv2D(16, (5,5), strides=(1,1),padding='same',use_bias=False))\n",
    "    assert model.output_shape == (None, 28, 28, 16)\n",
    "    model.add(layers.BatchNormalization())\n",
    "    model.add(layers.LeakyReLU())\n",
    "\n",
    "    model.add(layers.Conv2D(1, (5,5), strides=(1,1),padding='same',use_bias=False, activation='tanh'))\n",
    "    assert model.output_shape == (None, 28, 28, 1)\n",
    "\n",
    "    return model\n",
    "    \n",
    "    \n",
    "    "
   ]
  },
  {
   "cell_type": "code",
   "execution_count": 90,
   "id": "26c9f429-471a-4933-a5f7-04ffe1295c69",
   "metadata": {},
   "outputs": [],
   "source": [
    "# # generator = generator()\n",
    "\n",
    "# noise = tf.random.normal([1,100])\n",
    "# img = generator(noise, training=False)\n",
    "# print(img.shape)\n",
    "# plt.imshow(img[0,:,:,0],cmap='grey')"
   ]
  },
  {
   "cell_type": "code",
   "execution_count": 91,
   "id": "e1a37b56-9cc2-436e-9b93-a0a7d0a8382e",
   "metadata": {},
   "outputs": [],
   "source": [
    "# Generator2 = generator2()\n",
    "\n",
    "# noise = tf.random.normal([1,28,28,1])\n",
    "# img = Generator2(noise, training=False)\n",
    "# print(img.shape)\n",
    "# plt.imshow(img[0,:,:,0],cmap='grey')"
   ]
  },
  {
   "cell_type": "markdown",
   "id": "a1a28e2f-39d7-4b9b-8a9b-303edf42b5ab",
   "metadata": {},
   "source": [
    "### 2. Discriminator"
   ]
  },
  {
   "cell_type": "code",
   "execution_count": 92,
   "id": "23323793-b1d3-41d7-81bf-5da041a08180",
   "metadata": {},
   "outputs": [],
   "source": [
    "def discriminator():\n",
    "    model = tf.keras.Sequential()\n",
    "    model.add(layers.Conv2D(64, (5,5), strides=(2,2), padding='same', input_shape=[28,28,1]))\n",
    "    model.add(layers.LeakyReLU())\n",
    "    model.add(layers.Dropout(0.3))\n",
    "\n",
    "    model.add(layers.Conv2D(128,(5,5),strides=(2,2), padding='same'))\n",
    "    model.add(layers.LeakyReLU())\n",
    "    model.add(layers.Dropout(0.3))\n",
    "\n",
    "    model.add(layers.Flatten())\n",
    "    model.add(layers.Dense(16))\n",
    "    model.add(layers.Dense(1))  # logits (output without sigmoid or before sigmoid)\n",
    "    # model.add(layers.Dense(1,activation='sigmoid'))\n",
    "\n",
    "    return model\n"
   ]
  },
  {
   "cell_type": "code",
   "execution_count": 93,
   "id": "0d72c82f-93dc-4893-b851-e580b9907b81",
   "metadata": {},
   "outputs": [],
   "source": [
    "# D = discriminator()\n",
    "# out = D(img)\n",
    "# print(out)"
   ]
  },
  {
   "cell_type": "code",
   "execution_count": 94,
   "id": "1df63aa5-a331-4d00-a6bb-1e0d848fad48",
   "metadata": {},
   "outputs": [],
   "source": [
    "cross_entropy = tf.keras.losses.BinaryCrossentropy(from_logits=True)"
   ]
  },
  {
   "cell_type": "markdown",
   "id": "a7cf6e6a-b15f-4c4f-b238-5e683786d332",
   "metadata": {},
   "source": [
    "Here the discriminator should be able to classify real as real image and fake as fake image."
   ]
  },
  {
   "cell_type": "code",
   "execution_count": 95,
   "id": "8471448d-f98b-407a-92a1-69b497c626d7",
   "metadata": {},
   "outputs": [],
   "source": [
    "def discriminator_loss(real, fake):\n",
    "    real_loss = cross_entropy(tf.ones_like(real), real)\n",
    "    fake_loss = cross_entropy(tf.zeros_like(fake), fake)\n",
    "\n",
    "    return real_loss+fake_loss"
   ]
  },
  {
   "cell_type": "markdown",
   "id": "b3b64a60-ad72-4d7f-9a0a-e0e13d526939",
   "metadata": {},
   "source": [
    "Here the generator should try to generate fake image such that the disciminator classifies it as real image, so the loss fro generator is cross_entropy(1,fake) as"
   ]
  },
  {
   "cell_type": "code",
   "execution_count": 96,
   "id": "0806ad75-e769-48ec-a3ba-a691ee390c05",
   "metadata": {},
   "outputs": [],
   "source": [
    "def generator_loss(fake):\n",
    "    return cross_entropy(tf.ones_like(fake), fake)"
   ]
  },
  {
   "cell_type": "code",
   "execution_count": 117,
   "id": "32796a8b-17b0-443e-bb9d-01fff3edcace",
   "metadata": {},
   "outputs": [],
   "source": [
    "G_opt = tf.keras.optimizers.Adam(1e-4)\n",
    "D_opt = tf.keras.optimizers.Adam(1e-4)"
   ]
  },
  {
   "cell_type": "code",
   "execution_count": 118,
   "id": "36663deb-7f55-4d4e-a163-9d3e17f326ac",
   "metadata": {},
   "outputs": [],
   "source": [
    "G = generator()\n",
    "D = discriminator()"
   ]
  },
  {
   "cell_type": "markdown",
   "id": "0eb1ad61-24f9-46da-b523-f8c475b775f2",
   "metadata": {},
   "source": [
    "Saving checkpoints"
   ]
  },
  {
   "cell_type": "code",
   "execution_count": 119,
   "id": "8a25818e-6735-4eb8-ad37-45253034ae27",
   "metadata": {},
   "outputs": [],
   "source": [
    "checkpoint_dir = './training_checkpoints'\n",
    "checkpoint_prefix = os.path.join(checkpoint_dir, \"ckpt\")\n",
    "checkpoint = tf.train.Checkpoint(\n",
    "    generator_optimizer=G_opt,\n",
    "    discriminator_optimizer=D_opt,\n",
    "    generator=G,\n",
    "    discriminator=D\n",
    ")"
   ]
  },
  {
   "cell_type": "markdown",
   "id": "a14afb9e-3585-44b1-9f1e-70775c6ad3c8",
   "metadata": {},
   "source": [
    " ### Training"
   ]
  },
  {
   "cell_type": "code",
   "execution_count": 121,
   "id": "2e3bdd6d-8a7b-4038-88d3-567245925b67",
   "metadata": {},
   "outputs": [],
   "source": [
    "@tf.function\n",
    "\n",
    "def train_step(img):\n",
    "    noise = tf.random.normal([Batch_size,noise_dim])\n",
    "\n",
    "    with tf.GradientTape() as gen_tape, tf.GradientTape() as disc_tape:\n",
    "        fake_img = G(noise,training=True)\n",
    "\n",
    "        real_out = D(img, training=True)\n",
    "        fake_out = D(fake_img, training=True)\n",
    "\n",
    "        G_loss = generator_loss(fake_out)\n",
    "        D_loss = discriminator_loss(real_out, fake_out)\n",
    "\n",
    "    grad_G = gen_tape.gradient(G_loss, G.trainable_variables)\n",
    "    grad_D = disc_tape.gradient(D_loss, D.trainable_variables)\n",
    "\n",
    "    G_opt.apply_gradients(zip(grad_G, G.trainable_variables))\n",
    "    D_opt.apply_gradients(zip(grad_D, D.trainable_variables))\n",
    "    \n",
    "    "
   ]
  },
  {
   "cell_type": "code",
   "execution_count": 122,
   "id": "217d345d-0e12-49ca-a306-83202efb815f",
   "metadata": {},
   "outputs": [],
   "source": [
    "def train(dataset, epochs):\n",
    "    for epoch in range(epochs):\n",
    "        start = time.time()\n",
    "\n",
    "        for img_batch in dataset:\n",
    "            train_step(img_batch)\n",
    "\n",
    "        # See the progress of the model as it trains in the form of generated images\n",
    "        display.clear_output(wait=True)\n",
    "        generate_and_save_images(G,epoch+1,seed)\n",
    "\n",
    "        # Save the model every 10 epochs\n",
    "        if(epoch+1)%10 == 0:\n",
    "            checkpoint.save(file_prefix = checkpoint_prefix)\n",
    "\n",
    "        print('Time for epoch {} is {} sec'.format(epoch+1, time.time()-start))\n",
    "\n",
    "    # Generate after the final epoch\n",
    "    display.clear_output(wait=True)\n",
    "    generate_and_save_images(G,epochs,seed)\n",
    "        "
   ]
  },
  {
   "cell_type": "code",
   "execution_count": 125,
   "id": "c4c3f54b-5b30-4782-9b09-806a0fe451ec",
   "metadata": {},
   "outputs": [],
   "source": [
    "def generate_and_save_images(model, epoch, test_input):\n",
    "\n",
    "    pred = model(test_input, training=False)\n",
    "\n",
    "    fig = plt.figure(figsize=(4,4))\n",
    "\n",
    "    for i in range(pred.shape[0]):\n",
    "        plt.subplot(4,4,i+1)\n",
    "        plt.imshow(pred[i,:,:,0]*127.5 + 127.5, cmap='gray')\n",
    "        plt.axis('off')\n",
    "\n",
    "    # plt.savefig('epoch_{:0d}.png'.format(epoch))\n",
    "    plt.show()\n",
    "        "
   ]
  },
  {
   "cell_type": "code",
   "execution_count": 120,
   "id": "e9e19f7d-ab66-49fe-9f7d-3c7cd6aef4e9",
   "metadata": {},
   "outputs": [],
   "source": [
    "epochs = 50\n",
    "noise_dim = 100\n",
    "num_examples = 16\n",
    "\n",
    "seed = tf.random.normal([num_examples, noise_dim])"
   ]
  },
  {
   "cell_type": "code",
   "execution_count": 127,
   "id": "4f490325-7e15-40f2-93d5-643623ae7cbe",
   "metadata": {},
   "outputs": [
    {
     "data": {
      "image/png": "[encoded data removed]",
      "text/plain": [
       "<Figure size 400x400 with 16 Axes>"
      ]
     },
     "metadata": {},
     "output_type": "display_data"
    }
   ],
   "source": [
    "train(train_dataset, 20)"
   ]
  },
  {
   "cell_type": "code",
   "execution_count": null,
   "id": "8994424a-3120-4bf8-926b-f69db411ad91",
   "metadata": {},
   "outputs": [],
   "source": []
  },
  {
   "cell_type": "code",
   "execution_count": null,
   "id": "2c2022e3-161b-4d2f-9a9a-953ad6dd13d9",
   "metadata": {},
   "outputs": [],
   "source": []
  }
 ],
 "metadata": {
  "kernelspec": {
   "display_name": "Python 3 (ipykernel)",
   "language": "python",
   "name": "python3"
  },
  "language_info": {
   "codemirror_mode": {
    "name": "ipython",
    "version": 3
   },
   "file_extension": ".py",
   "mimetype": "text/x-python",
   "name": "python",
   "nbconvert_exporter": "python",
   "pygments_lexer": "ipython3",
   "version": "3.10.14"
  }
 },
 "nbformat": 4,
 "nbformat_minor": 5
}
